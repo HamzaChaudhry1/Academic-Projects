{
 "cells": [
  {
   "cell_type": "code",
   "execution_count": 5,
   "metadata": {},
   "outputs": [
    {
     "name": "stdout",
     "output_type": "stream",
     "text": [
      "Opened database successfully\n"
     ]
    },
    {
     "ename": "OperationalError",
     "evalue": "AUTOINCREMENT is only allowed on an INTEGER PRIMARY KEY",
     "output_type": "error",
     "traceback": [
      "\u001b[0;31m---------------------------------------------------------------------------\u001b[0m",
      "\u001b[0;31mOperationalError\u001b[0m                          Traceback (most recent call last)",
      "\u001b[0;32m<ipython-input-5-413d439174b1>\u001b[0m in \u001b[0;36m<module>\u001b[0;34m\u001b[0m\n\u001b[1;32m      4\u001b[0m \u001b[0mprint\u001b[0m\u001b[0;34m(\u001b[0m\u001b[0;34m\"Opened database successfully\"\u001b[0m\u001b[0;34m)\u001b[0m\u001b[0;34m\u001b[0m\u001b[0;34m\u001b[0m\u001b[0m\n\u001b[1;32m      5\u001b[0m \u001b[0;34m\u001b[0m\u001b[0m\n\u001b[0;32m----> 6\u001b[0;31m \u001b[0mconn\u001b[0m\u001b[0;34m.\u001b[0m\u001b[0mexecute\u001b[0m\u001b[0;34m(\u001b[0m\u001b[0;34m\"CREATE TABLE IF NOT EXISTS countries(CODE TEXT PRIMARY KEY AUTOINCREMENT, COUNTRY_name TEXT, independance_year INT)\"\u001b[0m\u001b[0;34m)\u001b[0m\u001b[0;34m\u001b[0m\u001b[0;34m\u001b[0m\u001b[0m\n\u001b[0m\u001b[1;32m      7\u001b[0m \u001b[0;34m\u001b[0m\u001b[0m\n\u001b[1;32m      8\u001b[0m \u001b[0;34m\u001b[0m\u001b[0m\n",
      "\u001b[0;31mOperationalError\u001b[0m: AUTOINCREMENT is only allowed on an INTEGER PRIMARY KEY"
     ]
    }
   ],
   "source": [
    "import sqlite3\n",
    "\n",
    "conn = sqlite3.connect('countries.sqlite')\n",
    "print(\"Opened database successfully\")\n",
    "\n",
    "conn.execute(\"CREATE TABLE IF NOT EXISTS countries(CODE TEXT PRIMARY KEY AUTOINCREMENT, COUNTRY_name TEXT, independance_year INT)\")\n",
    "\n",
    "Cont = \n",
    "\n",
    "cursor = conn.execute(\"SELECT * from countries\")\n",
    "print(\"One row:\")\n",
    "print(cursor.fetchone())\n",
    "\n",
    "print(\"\\nMultiple rows:\")\n",
    "for row in cursor:\n",
    "    print(row)\n",
    "\n",
    "print(\"Operation done successfully\")\n"
   ]
  },
  {
   "cell_type": "code",
   "execution_count": 4,
   "metadata": {},
   "outputs": [
    {
     "name": "stdout",
     "output_type": "stream",
     "text": [
      "Country Name:  Afghanistan\n",
      "Continent:  Asia\n"
     ]
    }
   ],
   "source": [
    "code = ('AFG',)\n",
    "\n",
    "cont = \n",
    "\n",
    "\n",
    "cursor.execute('SELECT country_name, continent FROM countries WHERE code = ?', code)\n",
    "country = cursor.fetchone()\n",
    "\n",
    "print(\"Country Name: \" , country[0])\n",
    "print(\"Continent: \", country[1])\n",
    "\n",
    "conn.close()"
   ]
  },
  {
   "cell_type": "code",
   "execution_count": null,
   "metadata": {},
   "outputs": [],
   "source": []
  }
 ],
 "metadata": {
  "kernelspec": {
   "display_name": "Python 3",
   "language": "python",
   "name": "python3"
  },
  "language_info": {
   "codemirror_mode": {
    "name": "ipython",
    "version": 3
   },
   "file_extension": ".py",
   "mimetype": "text/x-python",
   "name": "python",
   "nbconvert_exporter": "python",
   "pygments_lexer": "ipython3",
   "version": "3.8.8"
  }
 },
 "nbformat": 4,
 "nbformat_minor": 2
}
