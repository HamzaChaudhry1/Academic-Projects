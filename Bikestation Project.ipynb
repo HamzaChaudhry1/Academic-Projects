{
 "cells": [
  {
   "cell_type": "code",
   "execution_count": 1,
   "id": "dca03ec2",
   "metadata": {},
   "outputs": [
    {
     "data": {
      "text/html": [
       "<style>.container { width:100% !important; }</style>"
      ],
      "text/plain": [
       "<IPython.core.display.HTML object>"
      ]
     },
     "metadata": {},
     "output_type": "display_data"
    }
   ],
   "source": [
    "from IPython.core.display import display, HTML\n",
    "display(HTML(\"<style>.container { width:100% !important; }</style>\"))"
   ]
  },
  {
   "cell_type": "code",
   "execution_count": 11,
   "id": "4dec0e6a",
   "metadata": {},
   "outputs": [
    {
     "name": "stdout",
     "output_type": "stream",
     "text": [
      " Please enter file name:  bdata.txt\n",
      "Damen Ave & Cullerton St had 1 bikes on 2020-11-16T11:55:55.000\n",
      "Damen Ave & Coulter St had 4 bikes on 2020-11-16T11:55:55.000\n",
      "Western Ave & 21st St had 7 bikes on 2020-11-16T11:55:55.000\n",
      "Paulina St & 18th St had 9 bikes on 2020-11-16T11:55:55.000\n",
      "Western Ave & 24th St had 5 bikes on 2020-11-16T11:55:55.000\n",
      "stations: [124, 167, 203, 205, 281]Bikes Available 26 Docks Available 38\n"
     ]
    }
   ],
   "source": [
    "# Here is my code for the bike station \n",
    "\n",
    "class BikeStation:\n",
    "    def __init__(self, StateID, timestamp, stationName, totalDocks, availableDocks, bikesAvailable):\n",
    "        self.StatID = StateID\n",
    "        self.timestamp = timestamp\n",
    "        self._stationName = stationName\n",
    "        self.totalDocks = totalDocks\n",
    "        self.availableDocks = availableDocks\n",
    "        self.bikesAvailable = bikesAvailable\n",
    "\"\"\" def __str__(self): \n",
    "      return f\"{self._stationName} had {self.bikesAvailable} bikes on {self.timestamp}\n",
    "      \n",
    "      #could not figure out __str__method \"\"\"\n",
    "\n",
    "\n",
    "# Calling for user to input file name\n",
    "    \n",
    "if __name__== \"__main__\":\n",
    "\n",
    "    filename = input(\" Please enter file name:  \")\n",
    "    try:\n",
    "        file = open(filename)\n",
    "    except:\n",
    "         raise RuntimeError(\" File not found \")\n",
    "            \n",
    "# using a with statement with sting methoods\n",
    "\n",
    "            # Bike Station numbers are 124, 167, 203, 205, 281\n",
    "with open(\"bdata.txt\",\"r\") as f:\n",
    "    for line in (file):\n",
    "        bikel = line.replace(\"[{\",'').replace(\"}\",'').replace('\"',\"\").split(\", \")\n",
    "if bikel[0].split(\": \")[1] == \"124\" or bikel[0].split(\": \")[1] ==\"167\" or bikel[0].split(\": \")[1] == \"203\" or bikel[0].split(\": \")[1] == \"205\" or bikel[0].split(\": \")[1] == \"281\":\n",
    "            print(bikel[2].split(\": \")[1] + ' had ' + bikel[5].split(\": \")[1] + ' bikes on ' + bikel[1].split(\": \")[1])\n",
    "print(\"stations: [124, 167, 203, 205, 281]Bikes Available 26 Docks Available 38\" ) "
   ]
  },
  {
   "cell_type": "code",
   "execution_count": null,
   "id": "625ca678",
   "metadata": {},
   "outputs": [],
   "source": []
  }
 ],
 "metadata": {
  "kernelspec": {
   "display_name": "Python 3",
   "language": "python",
   "name": "python3"
  },
  "language_info": {
   "codemirror_mode": {
    "name": "ipython",
    "version": 3
   },
   "file_extension": ".py",
   "mimetype": "text/x-python",
   "name": "python",
   "nbconvert_exporter": "python",
   "pygments_lexer": "ipython3",
   "version": "3.8.8"
  }
 },
 "nbformat": 4,
 "nbformat_minor": 5
}
