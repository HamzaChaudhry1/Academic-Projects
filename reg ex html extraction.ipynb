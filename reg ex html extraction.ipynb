{
 "cells": [
  {
   "cell_type": "code",
   "execution_count": 15,
   "id": "20891b6c",
   "metadata": {},
   "outputs": [
    {
     "ename": "IndentationError",
     "evalue": "unexpected indent (<ipython-input-15-d956c35219cb>, line 3)",
     "output_type": "error",
     "traceback": [
      "\u001b[0;36m  File \u001b[0;32m\"<ipython-input-15-d956c35219cb>\"\u001b[0;36m, line \u001b[0;32m3\u001b[0m\n\u001b[0;31m    x=list()\u001b[0m\n\u001b[0m    ^\u001b[0m\n\u001b[0;31mIndentationError\u001b[0m\u001b[0;31m:\u001b[0m unexpected indent\n"
     ]
    }
   ],
   "source": [
    "import regex\n",
    "file = open(\"regex_sum_43.txt\")\n",
    "x = list()\n",
    "for line in file:\n",
    "     y = regex.findall('[0-9]+',line)\n",
    "     x = x+y\n",
    "sum = 0\n",
    "for num in x:\n",
    "    sum = sum + int(num)\n",
    "\n",
    "print(sum)"
   ]
  },
  {
   "cell_type": "code",
   "execution_count": 24,
   "id": "b2062993",
   "metadata": {},
   "outputs": [
    {
     "name": "stdout",
     "output_type": "stream",
     "text": [
      "HTTP/1.1 200 OK\r\n",
      "Content-Type: text/plain\r\n",
      "Last-Modified: Sat, 05 Jun 2021 20:39:04 GMT\r\n",
      "Accept-Ranges: bytes\r\n",
      "ETag: \"4242dcd24a5ad71:0\"\r\n",
      "Server: Microsoft-IIS/8.5\r\n",
      "X-Powered-By: ASP.NET\r\n",
      "X-Powered-By-Plesk: PleskWin\r\n",
      "Date: Sun, 10 Oct 2021 04:34:27 GMT\r\n",
      "Connection: close\r\n",
      "Content-Length: 17761\r\n",
      "\r\n",
      "Listing 3: EXECSWAP.ASM\r"
     ]
    }
   ],
   "source": [
    "import socket\n",
    "\n",
    "mysock = socket.socket(socket.AF_INET, socket.SOCK_STREAM)\n",
    "mysock.connect(('ucd.dawngregg.com', 80))\n",
    "cmd = 'GET http://ucd.dawngregg.com/python/text/execswap.txt HTTP/1.0\\r\\n\\r\\n'.encode()\n",
    "mysock.send(cmd)\n",
    "\n",
    "while True:\n",
    "    data = mysock.recv(512)\n",
    "    if len(data) < 1:\n",
    "        break\n",
    "    print(data.decode(),end='')\n",
    "\n",
    "mysock.close()\n"
   ]
  },
  {
   "cell_type": "code",
   "execution_count": null,
   "id": "a1a3d20e",
   "metadata": {},
   "outputs": [],
   "source": []
  }
 ],
 "metadata": {
  "kernelspec": {
   "display_name": "Python 3",
   "language": "python",
   "name": "python3"
  },
  "language_info": {
   "codemirror_mode": {
    "name": "ipython",
    "version": 3
   },
   "file_extension": ".py",
   "mimetype": "text/x-python",
   "name": "python",
   "nbconvert_exporter": "python",
   "pygments_lexer": "ipython3",
   "version": "3.8.8"
  }
 },
 "nbformat": 4,
 "nbformat_minor": 5
}
