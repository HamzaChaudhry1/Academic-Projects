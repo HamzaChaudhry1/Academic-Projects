{
 "cells": [
  {
   "cell_type": "code",
   "execution_count": 16,
   "metadata": {},
   "outputs": [
    {
     "name": "stdout",
     "output_type": "stream",
     "text": [
      "  name  age    ZIP\n",
      "0  Tim   29  80202\n",
      "1  Jim   31  80271\n",
      "2  Pam   27  90274\n",
      "3  Sam   35  93705\n"
     ]
    }
   ],
   "source": [
    "import pandas as pd\n",
    "data = { \"name\": [\"Tim\", \"Jim\", \"Pam\", \"Sam\" ],\n",
    "         \"age\":  [ 29, 31, 27, 35],\n",
    "         \"ZIP\": [ \"80202\", \"80271\", \"90274\", \"93705\"] }\n",
    "p = pd.DataFrame(data)\n",
    "\n",
    "print(x)"
   ]
  },
  {
   "cell_type": "code",
   "execution_count": 21,
   "metadata": {},
   "outputs": [
    {
     "name": "stdout",
     "output_type": "stream",
     "text": [
      "0    Tim\n",
      "1    Jim\n",
      "2    Pam\n",
      "3    Sam\n",
      "Name: name, dtype: object\n",
      "name      Pam\n",
      "age        27\n",
      "ZIP     90274\n",
      "Name: 2, dtype: object\n"
     ]
    }
   ],
   "source": [
    "print(p[\"name\"])\n",
    "p.age\n",
    "print(p.loc[2])\n"
   ]
  },
  {
   "cell_type": "code",
   "execution_count": 18,
   "metadata": {},
   "outputs": [
    {
     "data": {
      "text/plain": [
       "0    29\n",
       "1    31\n",
       "2    27\n",
       "3    35\n",
       "Name: age, dtype: int64"
      ]
     },
     "execution_count": 18,
     "metadata": {},
     "output_type": "execute_result"
    }
   ],
   "source": [
    "p.age"
   ]
  },
  {
   "cell_type": "code",
   "execution_count": null,
   "metadata": {},
   "outputs": [],
   "source": [
    "data = {\" Car\": []}"
   ]
  }
 ],
 "metadata": {
  "kernelspec": {
   "display_name": "Python 3",
   "language": "python",
   "name": "python3"
  },
  "language_info": {
   "codemirror_mode": {
    "name": "ipython",
    "version": 3
   },
   "file_extension": ".py",
   "mimetype": "text/x-python",
   "name": "python",
   "nbconvert_exporter": "python",
   "pygments_lexer": "ipython3",
   "version": "3.8.8"
  }
 },
 "nbformat": 4,
 "nbformat_minor": 2
}
